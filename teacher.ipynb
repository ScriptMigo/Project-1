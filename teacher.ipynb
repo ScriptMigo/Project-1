{
 "cells": [
  {
   "cell_type": "code",
   "execution_count": 150,
   "metadata": {},
   "outputs": [],
   "source": [
    "import pandas as pd\n",
    "import numpy as np\n",
    "import matplotlib.pyplot as plt\n",
    "import os\n",
    "import plotly\n",
    "%matplotlib inline"
   ]
  },
  {
   "cell_type": "code",
   "execution_count": 173,
   "metadata": {},
   "outputs": [
    {
     "data": {
      "text/plain": "'c:\\\\Users\\\\unhea\\\\Documents\\\\Bootcamp\\\\My Repositories\\\\Project-1\\\\data_files\\\\revenue.xlsx'"
     },
     "execution_count": 173,
     "metadata": {},
     "output_type": "execute_result"
    }
   ],
   "source": [
    "path = os.getcwd()\n",
    "dataFilePath = os.path.join(path,\"data_files\",\"revenue.xlsx\")"
   ]
  },
  {
   "cell_type": "code",
   "execution_count": 174,
   "metadata": {},
   "outputs": [],
   "source": [
    "revenue = pd.read_excel(dataFilePath)"
   ]
  },
  {
   "cell_type": "code",
   "execution_count": null,
   "metadata": {},
   "outputs": [],
   "source": [
    "revenue.isnull().sum()"
   ]
  },
  {
   "cell_type": "code",
   "execution_count": 175,
   "metadata": {},
   "outputs": [
    {
     "data": {
      "text/html": "<div>\n<style scoped>\n    .dataframe tbody tr th:only-of-type {\n        vertical-align: middle;\n    }\n\n    .dataframe tbody tr th {\n        vertical-align: top;\n    }\n\n    .dataframe thead th {\n        text-align: right;\n    }\n</style>\n<table border=\"1\" class=\"dataframe\">\n  <thead>\n    <tr style=\"text-align: right;\">\n      <th></th>\n      <th>Unnamed: 0</th>\n      <th>Unnamed: 1</th>\n      <th>Unnamed: 2</th>\n      <th>Unnamed: 3</th>\n      <th>Unnamed: 4</th>\n      <th>Unnamed: 5</th>\n      <th>Unnamed: 6</th>\n      <th>Unnamed: 7</th>\n    </tr>\n  </thead>\n  <tbody>\n    <tr>\n      <td>0</td>\n      <td>States</td>\n      <td>2010.0</td>\n      <td>2011.0</td>\n      <td>2012.0</td>\n      <td>2013.0</td>\n      <td>2014.0</td>\n      <td>2015.0</td>\n      <td>2016.0</td>\n    </tr>\n    <tr>\n      <td>1</td>\n      <td>United States</td>\n      <td>79.3</td>\n      <td>80.0</td>\n      <td>81.4</td>\n      <td>80.0</td>\n      <td>83.2</td>\n      <td>84.3</td>\n      <td>85.4</td>\n    </tr>\n    <tr>\n      <td>2</td>\n      <td>Alabama</td>\n      <td>72.0</td>\n      <td>75.0</td>\n      <td>80.0</td>\n      <td>75.0</td>\n      <td>89.3</td>\n      <td>87.0</td>\n      <td>89.0</td>\n    </tr>\n    <tr>\n      <td>3</td>\n      <td>Alaska</td>\n      <td>68.0</td>\n      <td>70.0</td>\n      <td>71.8</td>\n      <td>70.0</td>\n      <td>75.6</td>\n      <td>76.0</td>\n      <td>78.0</td>\n    </tr>\n    <tr>\n      <td>4</td>\n      <td>Arizona</td>\n      <td>78.0</td>\n      <td>76.0</td>\n      <td>75.1</td>\n      <td>76.0</td>\n      <td>77.4</td>\n      <td>8.0</td>\n      <td>78.0</td>\n    </tr>\n  </tbody>\n</table>\n</div>",
      "text/plain": "      Unnamed: 0  Unnamed: 1  Unnamed: 2  Unnamed: 3  Unnamed: 4  Unnamed: 5  \\\n0         States      2010.0      2011.0      2012.0      2013.0      2014.0   \n1  United States        79.3        80.0        81.4        80.0        83.2   \n2        Alabama        72.0        75.0        80.0        75.0        89.3   \n3         Alaska        68.0        70.0        71.8        70.0        75.6   \n4        Arizona        78.0        76.0        75.1        76.0        77.4   \n\n   Unnamed: 6  Unnamed: 7  \n0      2015.0      2016.0  \n1        84.3        85.4  \n2        87.0        89.0  \n3        76.0        78.0  \n4         8.0        78.0  "
     },
     "execution_count": 175,
     "metadata": {},
     "output_type": "execute_result"
    }
   ],
   "source": [
    "path = os.getcwd()\n",
    "dataFilePath = os.path.join(path,\"data_files\",\"grad_rate.xlsx\")\n",
    "\n",
    "grad_rate = pd.read_excel(dataFilePath)\n",
    "grad_rate.head()"
   ]
  },
  {
   "cell_type": "code",
   "execution_count": null,
   "metadata": {},
   "outputs": [],
   "source": [
    "grad_rate.shape"
   ]
  },
  {
   "cell_type": "code",
   "execution_count": null,
   "metadata": {},
   "outputs": [],
   "source": [
    "grad_rate_df = grad_rate.rename(columns={\"Unmaned: 0\":\"States\", \"Unnamed: 1\":\"2010\", \"Unnamed: 2\":\"2011\", \"Unnamed: 3\":\"2012\", \"Unnamed: 4\":\"2013\", \"Unnamed: 5\":\"2014\", \"Unnamed: 6\":\"2015\", \"Unnamed: 7\":\"2016\" })\n",
    "grad_rate_df.head()\n"
   ]
  },
  {
   "cell_type": "code",
   "execution_count": null,
   "metadata": {},
   "outputs": [],
   "source": [
    "grad_rate_df_1 = grad_rate_df.drop([0,1])\n",
    "grad_rate_renamed = grad_rate_df_1.rename(columns={\"Unnamed: 0\": \"States\"})\n",
    "grad_rate_renamed = grad_rate_renamed.set_index('States')\n",
    "grad_rate_renamed.head()"
   ]
  },
  {
   "cell_type": "code",
   "execution_count": null,
   "metadata": {},
   "outputs": [],
   "source": [
    "# This is just a check\n",
    "grad_rate_renamed_df.isnull().sum()"
   ]
  },
  {
   "cell_type": "code",
   "execution_count": null,
   "metadata": {},
   "outputs": [],
   "source": [
    "grad_rate_renamed"
   ]
  },
  {
   "cell_type": "code",
   "execution_count": null,
   "metadata": {},
   "outputs": [],
   "source": [
    "# Get full data for state\n",
    "yearValues = pd.DataFrame(grad_rate_renamed_df.loc['Oklahoma'].transform(lambda x: x.fillna(x.mean())))\n",
    "# Drop incomplete data\n",
    "grad_rate_renamed = grad_rate_renamed.drop(index='Oklahoma')\n",
    "# Flatten the year data\n",
    "stateData = yearValues.T\n",
    "# Add new data and sort by state name\n",
    "grad_rate_renamed = grad_rate_renamed.append(stateData).sort_index()\n",
    "# Print results\n",
    "grad_rate_renamed\n",
    "\n"
   ]
  },
  {
   "cell_type": "code",
   "execution_count": null,
   "metadata": {},
   "outputs": [],
   "source": [
    "yearValues = grad_rate_renamed_df.loc['Idaho'].transform(lambda x: x.fillna(x.mean()))\n",
    "# Drop incomplete data\n",
    "grad_rate_renamed = grad_rate_renamed.drop(index='Idaho')\n",
    "# Flatten the year data\n",
    "stateData = yearValues.T\n",
    "# Add new data and sort by state name\n",
    "grad_rate_renamed = grad_rate_renamed.append(stateData).sort_index()\n",
    "# Print results\n",
    "grad_rate_renamed\n"
   ]
  },
  {
   "cell_type": "code",
   "execution_count": null,
   "metadata": {},
   "outputs": [],
   "source": [
    "yearValues = grad_rate_renamed_df.loc['Kentucky'].transform(lambda x: x.fillna(x.mean()))\n",
    "# Drop incomplete data\n",
    "grad_rate_renamed = grad_rate_renamed.drop(index='Kentucky')\n",
    "# Flatten the year data\n",
    "stateData = yearValues.T\n",
    "# Add new data and sort by state name\n",
    "grad_rate_renamed = grad_rate_renamed.append(stateData).sort_index()\n",
    "# Print results\n",
    "grad_rate_renamed\n"
   ]
  },
  {
   "cell_type": "code",
   "execution_count": null,
   "metadata": {},
   "outputs": [],
   "source": []
  },
  {
   "cell_type": "code",
   "execution_count": null,
   "metadata": {},
   "outputs": [],
   "source": [
    "pupil_spending = pd.read_excel(\"new_files/per_pupil_spending.xlsx\")\n",
    "pupil_spending.head()"
   ]
  },
  {
   "cell_type": "code",
   "execution_count": null,
   "metadata": {},
   "outputs": [],
   "source": [
    "pupil_spending_renamed = pupil_spending.rename(columns={\"2007\":\"2007_PPS\", \"2008\":\"2008_PPS\", \"2009\":\"2009_PPS\",\n",
    "                                                       \"2010\":\"2010_PPS\", \"2011\":\"2011_PPS\", \"2012\":\"2012_PPS\", \"2013\":\"2013_PPS\",\n",
    "                                                       \"2014\":\"2014_PPS\", \"2015\":\"2015_PPS\", \"2016\":\"2016_PPS\", \n",
    "                                                       \"Unnamed: 2\":\"2007 pct_change\", \"Unnamed: 4\":\"2008 pct_change\",\n",
    "                                                       \"Unnamed: 6\":\"2009 pct_change\",\"Unnamed: 8\":\"2010 pct_change\",\n",
    "                                                       \"Unnamed: 10\":\"2011 pct_change\", \"Unnamed: 12\":\"2012 pct_change\",\n",
    "                                                       \"Unnamed: 14\":\"2013 pct_change\", \"Unnamed: 16\":\"2014 pct_change\",\n",
    "                                                       \"Unnamed: 18\":\"2015 pct_change\", \"Unnamed: 20\":\"2016 pct_change\"})\n",
    "\n",
    "pupil_spending_renamed.head()\n"
   ]
  },
  {
   "cell_type": "code",
   "execution_count": null,
   "metadata": {},
   "outputs": [],
   "source": [
    "pupil_spending_df = pupil_spending_renamed.drop([0,1])\n",
    "pupil_spending_df.head()"
   ]
  },
  {
   "cell_type": "code",
   "execution_count": null,
   "metadata": {},
   "outputs": [],
   "source": [
    "pupil_spending_df.isnull().sum()"
   ]
  },
  {
   "cell_type": "code",
   "execution_count": null,
   "metadata": {},
   "outputs": [],
   "source": [
    "ratio = pd.read_excel(\"new_files/teacher_student_ratio.xlsx\")\n",
    "ratio.head()"
   ]
  },
  {
   "cell_type": "code",
   "execution_count": null,
   "metadata": {},
   "outputs": [],
   "source": [
    "ratio_df = ratio.drop(['Unnamed: 1', 2007, 'Unnamed: 3', 'Unnamed: 4', 2008, 'Unnamed: 6', 'Unnamed: 7', 2009, 'Unnamed: 9','Unnamed: 10', 2010, 'Unnamed: 12'],axis=1)\n",
    "ratio_df.head()\n"
   ]
  },
  {
   "cell_type": "code",
   "execution_count": null,
   "metadata": {},
   "outputs": [],
   "source": [
    "ratio_renamed_df = ratio_df.rename(columns={\"Unnamed: 0\":\"State\", \"Unnamed: 13\":\"2011_staff\", 2011:\"2011_enrollment\", \n",
    "                                     \"Unnamed: 15\":\"2011_ratio\", \"Unnamed: 16\":\"2012_staff\", 2012:\"2012_enrollment\", \n",
    "                                      \"Unnamed: 18\":\"2012_ratio\", \"Unnamed: 19\":\"2013_staff\", 2013:\"2013_enrollment\",\n",
    "                                     \"Unnamed: 21\":\"2013_ratio\", \"Unnamed: 22\":\"2014_staff\", 2014:\"2014_enrollment\",\n",
    "                                     \"Unnamed: 24\":\"2014_ratio\",  \"Unnamed: 25\":\"2015_staff\", 2015:\"2015_enrollment\",\n",
    "                                     \"Unnamed: 27\":\"2015_ratio\", \"Unnamed: 28\":\"2016_staff\", 2016:\"2016_enrollment\",\n",
    "                                     \"Unnamed: 30\":\"2016_ratio\"}) \n",
    "                                     \n",
    "ratio_renamed_df.head()                                 \n",
    "                                     "
   ]
  },
  {
   "cell_type": "code",
   "execution_count": null,
   "metadata": {},
   "outputs": [],
   "source": [
    "ratio_cleaned_df = ratio_renamed_df.drop([0])\n",
    "ratio_cleaned_df.head()"
   ]
  },
  {
   "cell_type": "code",
   "execution_count": null,
   "metadata": {},
   "outputs": [],
   "source": [
    "ratio_cleaned_df.isnull().sum()"
   ]
  },
  {
   "cell_type": "code",
   "execution_count": null,
   "metadata": {},
   "outputs": [],
   "source": [
    "teacher_salaries = pd.read_excel(\"new_files/teacher_salaries_1.xlsx\").round(0)\n",
    "teacher_salaries.drop([0])"
   ]
  },
  {
   "cell_type": "code",
   "execution_count": null,
   "metadata": {},
   "outputs": [],
   "source": [
    "grad_rate_renamed"
   ]
  }
 ],
 "metadata": {
  "kernelspec": {
   "display_name": "Python 3",
   "language": "python",
   "name": "python3"
  },
  "language_info": {
   "codemirror_mode": {
    "name": "ipython",
    "version": 3
   },
   "file_extension": ".py",
   "mimetype": "text/x-python",
   "name": "python",
   "nbconvert_exporter": "python",
   "pygments_lexer": "ipython3",
   "version": "3.7.4-final"
  }
 },
 "nbformat": 4,
 "nbformat_minor": 2
}