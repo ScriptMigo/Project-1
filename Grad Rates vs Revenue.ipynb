{
 "cells": [
  {
   "cell_type": "code",
   "execution_count": 4,
   "metadata": {},
   "outputs": [],
   "source": [
    "import pandas as pd\n",
    "import numpy as np\n",
    "import matplotlib.pyplot as plt\n",
    "import scipy.stats as st\n",
    "from scipy.stats import linregress\n",
    "import plotly.graph_objects as go"
   ]
  },
  {
   "cell_type": "code",
   "execution_count": 8,
   "metadata": {},
   "outputs": [],
   "source": [
    "grad1= \"data_files/grad_rates.xlsx\"\n",
    "rev1 = \"data_files/revenue.xlsx\""
   ]
  },
  {
   "cell_type": "code",
   "execution_count": 9,
   "metadata": {},
   "outputs": [],
   "source": [
    "gradrate=pd.read_excel(grad1)\n",
    "reven=pd.read_excel(rev1)"
   ]
  },
  {
   "cell_type": "code",
   "execution_count": 16,
   "metadata": {},
   "outputs": [
    {
     "data": {
      "text/html": [
       "<div>\n",
       "<style scoped>\n",
       "    .dataframe tbody tr th:only-of-type {\n",
       "        vertical-align: middle;\n",
       "    }\n",
       "\n",
       "    .dataframe tbody tr th {\n",
       "        vertical-align: top;\n",
       "    }\n",
       "\n",
       "    .dataframe thead th {\n",
       "        text-align: right;\n",
       "    }\n",
       "</style>\n",
       "<table border=\"1\" class=\"dataframe\">\n",
       "  <thead>\n",
       "    <tr style=\"text-align: right;\">\n",
       "      <th></th>\n",
       "      <th>STATE</th>\n",
       "      <th>YEAR</th>\n",
       "      <th>TOTAL_REVENUE</th>\n",
       "      <th>FEDERAL_REVENUE</th>\n",
       "      <th>STATE_REVENUE</th>\n",
       "      <th>LOCAL_REVENUE</th>\n",
       "      <th>TOTAL_EXPENDITURE</th>\n",
       "      <th>INSTRUCTION_EXPENDITURE</th>\n",
       "      <th>SUPPORT_SERVICES_EXPENDITURE</th>\n",
       "      <th>OTHER_EXPENDITURE</th>\n",
       "      <th>CAPITAL_OUTLAY_EXPENDITURE</th>\n",
       "    </tr>\n",
       "  </thead>\n",
       "  <tbody>\n",
       "    <tr>\n",
       "      <td>0</td>\n",
       "      <td>ALABAMA</td>\n",
       "      <td>2007</td>\n",
       "      <td>7069040</td>\n",
       "      <td>689072</td>\n",
       "      <td>4070949</td>\n",
       "      <td>2309019</td>\n",
       "      <td>7196459</td>\n",
       "      <td>3653466</td>\n",
       "      <td>2174210</td>\n",
       "      <td>546077</td>\n",
       "      <td>687816</td>\n",
       "    </tr>\n",
       "    <tr>\n",
       "      <td>1</td>\n",
       "      <td>ALASKA</td>\n",
       "      <td>2007</td>\n",
       "      <td>1800616</td>\n",
       "      <td>282270</td>\n",
       "      <td>1052357</td>\n",
       "      <td>465989</td>\n",
       "      <td>1938755</td>\n",
       "      <td>927307</td>\n",
       "      <td>645857</td>\n",
       "      <td>60699</td>\n",
       "      <td>257723</td>\n",
       "    </tr>\n",
       "    <tr>\n",
       "      <td>2</td>\n",
       "      <td>ARIZONA</td>\n",
       "      <td>2007</td>\n",
       "      <td>8724434</td>\n",
       "      <td>953861</td>\n",
       "      <td>4204089</td>\n",
       "      <td>3566484</td>\n",
       "      <td>8709531</td>\n",
       "      <td>3977800</td>\n",
       "      <td>2656438</td>\n",
       "      <td>403069</td>\n",
       "      <td>1436673</td>\n",
       "    </tr>\n",
       "    <tr>\n",
       "      <td>3</td>\n",
       "      <td>ARKANSAS</td>\n",
       "      <td>2007</td>\n",
       "      <td>4415981</td>\n",
       "      <td>483689</td>\n",
       "      <td>3319030</td>\n",
       "      <td>613262</td>\n",
       "      <td>4779308</td>\n",
       "      <td>2337748</td>\n",
       "      <td>1378576</td>\n",
       "      <td>450454</td>\n",
       "      <td>470562</td>\n",
       "    </tr>\n",
       "    <tr>\n",
       "      <td>4</td>\n",
       "      <td>CALIFORNIA</td>\n",
       "      <td>2007</td>\n",
       "      <td>72516936</td>\n",
       "      <td>7200298</td>\n",
       "      <td>42333637</td>\n",
       "      <td>22983001</td>\n",
       "      <td>73225422</td>\n",
       "      <td>34685013</td>\n",
       "      <td>20655194</td>\n",
       "      <td>3467540</td>\n",
       "      <td>10058842</td>\n",
       "    </tr>\n",
       "  </tbody>\n",
       "</table>\n",
       "</div>"
      ],
      "text/plain": [
       "        STATE  YEAR  TOTAL_REVENUE  FEDERAL_REVENUE  STATE_REVENUE  \\\n",
       "0     ALABAMA  2007        7069040           689072        4070949   \n",
       "1      ALASKA  2007        1800616           282270        1052357   \n",
       "2     ARIZONA  2007        8724434           953861        4204089   \n",
       "3    ARKANSAS  2007        4415981           483689        3319030   \n",
       "4  CALIFORNIA  2007       72516936          7200298       42333637   \n",
       "\n",
       "   LOCAL_REVENUE  TOTAL_EXPENDITURE  INSTRUCTION_EXPENDITURE  \\\n",
       "0        2309019            7196459                  3653466   \n",
       "1         465989            1938755                   927307   \n",
       "2        3566484            8709531                  3977800   \n",
       "3         613262            4779308                  2337748   \n",
       "4       22983001           73225422                 34685013   \n",
       "\n",
       "   SUPPORT_SERVICES_EXPENDITURE  OTHER_EXPENDITURE  CAPITAL_OUTLAY_EXPENDITURE  \n",
       "0                       2174210             546077                      687816  \n",
       "1                        645857              60699                      257723  \n",
       "2                       2656438             403069                     1436673  \n",
       "3                       1378576             450454                      470562  \n",
       "4                      20655194            3467540                    10058842  "
      ]
     },
     "execution_count": 16,
     "metadata": {},
     "output_type": "execute_result"
    }
   ],
   "source": [
    "reven.head()"
   ]
  },
  {
   "cell_type": "code",
   "execution_count": 23,
   "metadata": {},
   "outputs": [
    {
     "data": {
      "text/html": [
       "<div>\n",
       "<style scoped>\n",
       "    .dataframe tbody tr th:only-of-type {\n",
       "        vertical-align: middle;\n",
       "    }\n",
       "\n",
       "    .dataframe tbody tr th {\n",
       "        vertical-align: top;\n",
       "    }\n",
       "\n",
       "    .dataframe thead th {\n",
       "        text-align: right;\n",
       "    }\n",
       "</style>\n",
       "<table border=\"1\" class=\"dataframe\">\n",
       "  <thead>\n",
       "    <tr style=\"text-align: right;\">\n",
       "      <th></th>\n",
       "      <th>STATE</th>\n",
       "      <th>YEAR</th>\n",
       "      <th>TOTAL_REVENUE</th>\n",
       "      <th>FEDERAL_REVENUE</th>\n",
       "      <th>STATE_REVENUE</th>\n",
       "      <th>LOCAL_REVENUE</th>\n",
       "      <th>TOTAL_EXPENDITURE</th>\n",
       "      <th>INSTRUCTION_EXPENDITURE</th>\n",
       "      <th>SUPPORT_SERVICES_EXPENDITURE</th>\n",
       "      <th>OTHER_EXPENDITURE</th>\n",
       "      <th>CAPITAL_OUTLAY_EXPENDITURE</th>\n",
       "    </tr>\n",
       "  </thead>\n",
       "  <tbody>\n",
       "  </tbody>\n",
       "</table>\n",
       "</div>"
      ],
      "text/plain": [
       "Empty DataFrame\n",
       "Columns: [STATE, YEAR, TOTAL_REVENUE, FEDERAL_REVENUE, STATE_REVENUE, LOCAL_REVENUE, TOTAL_EXPENDITURE, INSTRUCTION_EXPENDITURE, SUPPORT_SERVICES_EXPENDITURE, OTHER_EXPENDITURE, CAPITAL_OUTLAY_EXPENDITURE]\n",
       "Index: []"
      ]
     },
     "execution_count": 23,
     "metadata": {},
     "output_type": "execute_result"
    }
   ],
   "source": [
    "df10 = reven.loc[(reven[\"YEAR\"] == '2007')]\n",
    "df10.head()"
   ]
  },
  {
   "cell_type": "code",
   "execution_count": null,
   "metadata": {},
   "outputs": [],
   "source": []
  }
 ],
 "metadata": {
  "kernelspec": {
   "display_name": "Python 3",
   "language": "python",
   "name": "python3"
  },
  "language_info": {
   "codemirror_mode": {
    "name": "ipython",
    "version": 3
   },
   "file_extension": ".py",
   "mimetype": "text/x-python",
   "name": "python",
   "nbconvert_exporter": "python",
   "pygments_lexer": "ipython3",
   "version": "3.7.4"
  }
 },
 "nbformat": 4,
 "nbformat_minor": 2
}
